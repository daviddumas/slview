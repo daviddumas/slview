{
 "cells": [
  {
   "cell_type": "code",
   "execution_count": 3,
   "metadata": {},
   "outputs": [
    {
     "name": "stdout",
     "output_type": "stream",
     "text": [
      "Wrote \"torus-example.json\".\n"
     ]
    }
   ],
   "source": [
    "import json\n",
    "import datetime\n",
    "\n",
    "outfn = 'torus-example.json'\n",
    "\n",
    "d = dict()\n",
    "# Required elements\n",
    "d['format'] = 'slview_v1'\n",
    "d['mode'] = 't1h2_disk'\n",
    "d['layout'] = ['x','y','cx','cy','size']\n",
    "\n",
    "# Optional but recommended\n",
    "d['title'] = 'Torus example'\n",
    "d['shortdesc'] = 'Unit tangent bundle over a circle in H^2'\n",
    "d['creator'] = 'generate-slview-json.ipynb'\n",
    "d['timestamp'] = datetime.datetime.utcnow().isoformat()+'Z'\n",
    "\n",
    "# Generate the vectors\n",
    "vecs = []\n",
    "for i in range(30):\n",
    "    for j in range(30):\n",
    "        v = [\n",
    "            0.9*cos(2.0*pi*i/30),\n",
    "            0.9*sin(2.0*pi*i/30),\n",
    "            cos(2.0*pi*j/30),\n",
    "            sin(2.0*pi*j/30),\n",
    "            0.5 + 0.5*((i+j) % 2)\n",
    "            ]\n",
    "        vecs.append([float(x) for x in v])\n",
    "d['vectors'] = vecs\n",
    "\n",
    "# Write output\n",
    "with open(outfn,'w') as outfile:\n",
    "    json.dump(d,outfile)\n",
    "print('Wrote \"{}\".'.format(outfn))\n",
    "\n"
   ]
  },
  {
   "cell_type": "code",
   "execution_count": null,
   "metadata": {},
   "outputs": [],
   "source": []
  }
 ],
 "metadata": {
  "kernelspec": {
   "display_name": "SageMath 8.1",
   "language": "",
   "name": "sagemath"
  },
  "language_info": {
   "codemirror_mode": {
    "name": "ipython",
    "version": 2
   },
   "file_extension": ".py",
   "mimetype": "text/x-python",
   "name": "python",
   "nbconvert_exporter": "python",
   "pygments_lexer": "ipython2",
   "version": "2.7.17"
  }
 },
 "nbformat": 4,
 "nbformat_minor": 2
}
